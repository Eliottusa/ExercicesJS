{
  "cells": [
    {
      "cell_type": "markdown",
      "metadata": {
        "id": "view-in-github",
        "colab_type": "text"
      },
      "source": [
        "<a href=\"https://colab.research.google.com/github/Eliottusa/Augereau_Eliott_Exercice1_JS/blob/main/Augereau_Eliott_tp_collecte.ipynb\" target=\"_parent\"><img src=\"https://colab.research.google.com/assets/colab-badge.svg\" alt=\"Open In Colab\"/></a>"
      ]
    },
    {
      "cell_type": "markdown",
      "metadata": {
        "id": "RS4TIABMu2AK"
      },
      "source": [
        "## Import des librairies ##"
      ]
    },
    {
      "cell_type": "code",
      "execution_count": null,
      "metadata": {
        "id": "iyw4ODI8u2AL"
      },
      "outputs": [],
      "source": [
        "#Imports librairies de base\n",
        "import numpy as np\n",
        "import pandas as pd\n",
        "\n",
        "#Affichage de Graphes\n",
        "from IPython.display import Markdown, display, HTML\n",
        "import matplotlib.pyplot as plt\n",
        "\n",
        "#Information Mutuelle\n",
        "from sklearn.feature_selection import mutual_info_regression\n"
      ]
    },
    {
      "cell_type": "markdown",
      "metadata": {
        "_cell_guid": "25b1e1db-8bc5-7029-f719-91da523bd121",
        "_uuid": "5c867fcbb300bcf3c9b8986bba9949da2a2df931",
        "id": "UAaWS6Vxu2AM"
      },
      "source": [
        "## 1. Lecture des données ##"
      ]
    },
    {
      "cell_type": "markdown",
      "metadata": {
        "id": "1klOWgDJu2AM"
      },
      "source": [
        "1.1 Charger les données d'apprentissage (Data/passagers.csv) dans un DataFrame nommé train. Afficher 10 exemples."
      ]
    },
    {
      "cell_type": "code",
      "source": [
        "from google.colab import drive\n",
        "drive.mount('/content/drive')"
      ],
      "metadata": {
        "colab": {
          "base_uri": "https://localhost:8080/"
        },
        "id": "JgonwNLK50h7",
        "outputId": "caf3a2fc-9e0c-4865-a08c-7f3f7d1d3591"
      },
      "execution_count": null,
      "outputs": [
        {
          "output_type": "stream",
          "name": "stdout",
          "text": [
            "Mounted at /content/drive\n"
          ]
        }
      ]
    },
    {
      "cell_type": "code",
      "execution_count": null,
      "metadata": {
        "_cell_guid": "2ce68358-02ec-556d-ba88-e773a50bc18b",
        "_uuid": "5ec0878acc5c7ab3903410e671c2a2c6cfeafeea",
        "id": "_RJlDdYLu2AN",
        "colab": {
          "base_uri": "https://localhost:8080/"
        },
        "outputId": "2fd43b06-da29-4008-ff92-db1aedf02ede"
      },
      "outputs": [
        {
          "output_type": "stream",
          "name": "stdout",
          "text": [
            "             Survived  Pclass  \\\n",
            "PassengerId                     \n",
            "1                   0       3   \n",
            "2                   1       1   \n",
            "3                   1       3   \n",
            "4                   1       1   \n",
            "5                   0       3   \n",
            "6                   0       3   \n",
            "7                   0       1   \n",
            "8                   0       3   \n",
            "9                   1       3   \n",
            "10                  1       2   \n",
            "\n",
            "                                                          Name     Sex   Age  \\\n",
            "PassengerId                                                                    \n",
            "1                                      Braund, Mr. Owen Harris    male  22.0   \n",
            "2            Cumings, Mrs. John Bradley (Florence Briggs Th...  female  38.0   \n",
            "3                                       Heikkinen, Miss. Laina  female  26.0   \n",
            "4                 Futrelle, Mrs. Jacques Heath (Lily May Peel)  female  35.0   \n",
            "5                                     Allen, Mr. William Henry    male  35.0   \n",
            "6                                             Moran, Mr. James    male   NaN   \n",
            "7                                      McCarthy, Mr. Timothy J    male  54.0   \n",
            "8                               Palsson, Master. Gosta Leonard    male   2.0   \n",
            "9            Johnson, Mrs. Oscar W (Elisabeth Vilhelmina Berg)  female  27.0   \n",
            "10                         Nasser, Mrs. Nicholas (Adele Achem)  female  14.0   \n",
            "\n",
            "             SibSp  Parch            Ticket     Fare Cabin Embarked  \n",
            "PassengerId                                                          \n",
            "1                1      0         A/5 21171   7.2500   NaN        S  \n",
            "2                1      0          PC 17599  71.2833   C85        C  \n",
            "3                0      0  STON/O2. 3101282   7.9250   NaN        S  \n",
            "4                1      0            113803  53.1000  C123        S  \n",
            "5                0      0            373450   8.0500   NaN        S  \n",
            "6                0      0            330877   8.4583   NaN        Q  \n",
            "7                0      0             17463  51.8625   E46        S  \n",
            "8                3      1            349909  21.0750   NaN        S  \n",
            "9                0      2            347742  11.1333   NaN        S  \n",
            "10               1      0            237736  30.0708   NaN        C  \n"
          ]
        }
      ],
      "source": [
        "train = pd.read_csv('/content/drive/MyDrive/B3_Collecte_Donnée/TP/Data/passagers.csv', index_col=0)\n",
        "\n",
        "print(train.head(10))"
      ]
    },
    {
      "cell_type": "markdown",
      "metadata": {
        "id": "CMzSpixyu2AN"
      },
      "source": [
        "1.2 Charger les données d'apprentissage (Data/test.csv) dans un Dataframe nommé test. Afficher 10 exemples."
      ]
    },
    {
      "cell_type": "code",
      "execution_count": null,
      "metadata": {
        "_cell_guid": "2ce68358-02ec-556d-ba88-e773a50bc18b",
        "_uuid": "5ec0878acc5c7ab3903410e671c2a2c6cfeafeea",
        "id": "inxoMGrOu2AN",
        "colab": {
          "base_uri": "https://localhost:8080/"
        },
        "outputId": "f3a91316-699a-4e7a-ff2a-86bea6f33d39"
      },
      "outputs": [
        {
          "output_type": "stream",
          "name": "stdout",
          "text": [
            "   PassengerId  Pclass                                          Name     Sex  \\\n",
            "0          892       3                              Kelly, Mr. James    male   \n",
            "1          893       3              Wilkes, Mrs. James (Ellen Needs)  female   \n",
            "2          894       2                     Myles, Mr. Thomas Francis    male   \n",
            "3          895       3                              Wirz, Mr. Albert    male   \n",
            "4          896       3  Hirvonen, Mrs. Alexander (Helga E Lindqvist)  female   \n",
            "5          897       3                    Svensson, Mr. Johan Cervin    male   \n",
            "6          898       3                          Connolly, Miss. Kate  female   \n",
            "7          899       2                  Caldwell, Mr. Albert Francis    male   \n",
            "8          900       3     Abrahim, Mrs. Joseph (Sophie Halaut Easu)  female   \n",
            "9          901       3                       Davies, Mr. John Samuel    male   \n",
            "\n",
            "    Age  SibSp  Parch     Ticket     Fare Cabin Embarked  \n",
            "0  34.5      0      0     330911   7.8292   NaN        Q  \n",
            "1  47.0      1      0     363272   7.0000   NaN        S  \n",
            "2  62.0      0      0     240276   9.6875   NaN        Q  \n",
            "3  27.0      0      0     315154   8.6625   NaN        S  \n",
            "4  22.0      1      1    3101298  12.2875   NaN        S  \n",
            "5  14.0      0      0       7538   9.2250   NaN        S  \n",
            "6  30.0      0      0     330972   7.6292   NaN        Q  \n",
            "7  26.0      1      1     248738  29.0000   NaN        S  \n",
            "8  18.0      0      0       2657   7.2292   NaN        C  \n",
            "9  21.0      2      0  A/4 48871  24.1500   NaN        S  \n"
          ]
        }
      ],
      "source": [
        "test = pd.read_csv('/content/drive/MyDrive/B3_Collecte_Donnée/TP/Data/test.csv')\n",
        "\n",
        "print(test.head(10))"
      ]
    },
    {
      "cell_type": "code",
      "execution_count": null,
      "metadata": {
        "id": "Ho4BFaL5u2AN"
      },
      "outputs": [],
      "source": []
    },
    {
      "cell_type": "markdown",
      "metadata": {
        "id": "UUAmYzsau2AN"
      },
      "source": [
        "1.3 Afficher les informations des deux DataFrames train et Test."
      ]
    },
    {
      "cell_type": "code",
      "execution_count": null,
      "metadata": {
        "_cell_guid": "2ce68358-02ec-556d-ba88-e773a50bc18b",
        "_uuid": "5ec0878acc5c7ab3903410e671c2a2c6cfeafeea",
        "id": "SFxviS3Au2AO",
        "colab": {
          "base_uri": "https://localhost:8080/"
        },
        "outputId": "5c1c8c86-6cdb-4f7a-971c-c5700f52631d"
      },
      "outputs": [
        {
          "output_type": "stream",
          "name": "stdout",
          "text": [
            "<class 'pandas.core.frame.DataFrame'>\n",
            "Index: 891 entries, 1 to 891\n",
            "Data columns (total 11 columns):\n",
            " #   Column    Non-Null Count  Dtype  \n",
            "---  ------    --------------  -----  \n",
            " 0   Survived  891 non-null    int64  \n",
            " 1   Pclass    891 non-null    int64  \n",
            " 2   Name      891 non-null    object \n",
            " 3   Sex       891 non-null    object \n",
            " 4   Age       714 non-null    float64\n",
            " 5   SibSp     891 non-null    int64  \n",
            " 6   Parch     891 non-null    int64  \n",
            " 7   Ticket    891 non-null    object \n",
            " 8   Fare      891 non-null    float64\n",
            " 9   Cabin     204 non-null    object \n",
            " 10  Embarked  889 non-null    object \n",
            "dtypes: float64(2), int64(4), object(5)\n",
            "memory usage: 83.5+ KB\n",
            "--------------------------------------------------\n",
            "<class 'pandas.core.frame.DataFrame'>\n",
            "RangeIndex: 418 entries, 0 to 417\n",
            "Data columns (total 11 columns):\n",
            " #   Column       Non-Null Count  Dtype  \n",
            "---  ------       --------------  -----  \n",
            " 0   PassengerId  418 non-null    int64  \n",
            " 1   Pclass       418 non-null    int64  \n",
            " 2   Name         418 non-null    object \n",
            " 3   Sex          418 non-null    object \n",
            " 4   Age          332 non-null    float64\n",
            " 5   SibSp        418 non-null    int64  \n",
            " 6   Parch        418 non-null    int64  \n",
            " 7   Ticket       418 non-null    object \n",
            " 8   Fare         417 non-null    float64\n",
            " 9   Cabin        91 non-null     object \n",
            " 10  Embarked     418 non-null    object \n",
            "dtypes: float64(2), int64(4), object(5)\n",
            "memory usage: 36.1+ KB\n"
          ]
        }
      ],
      "source": [
        "train.info()\n",
        "print(\"-\"*50)\n",
        "test.info()\n"
      ]
    },
    {
      "cell_type": "markdown",
      "metadata": {
        "id": "Bmz71uPXu2AO"
      },
      "source": [
        "1.4 Calculer le taux global de survie"
      ]
    },
    {
      "cell_type": "code",
      "execution_count": null,
      "metadata": {
        "id": "m0HWUv2Au2AO",
        "colab": {
          "base_uri": "https://localhost:8080/"
        },
        "outputId": "2b76ba76-3345-4cf2-c4a7-86fd9118316c"
      },
      "outputs": [
        {
          "output_type": "stream",
          "name": "stdout",
          "text": [
            "Taux global de survie : 38.38%\n"
          ]
        }
      ],
      "source": [
        "survival_rate = train['Survived'].mean()\n",
        "print(f\"Taux global de survie : {survival_rate * 100:.2f}%\")"
      ]
    },
    {
      "cell_type": "markdown",
      "metadata": {
        "id": "Xfn47NhDu2AO"
      },
      "source": [
        "\n"
      ]
    },
    {
      "cell_type": "markdown",
      "metadata": {
        "id": "g1qwRhjyu2AO"
      },
      "source": [
        "#### Question 1 : Quel Travail voyez-vous pour que les données soient prêtes à faire tourner dans un modèle ?\n",
        "\n",
        "Il faut préparer les données au préalable, c'est à dire, gérer les valeurs manquantes, encoder certaines variables, normaliser les données numériques, créer de nouvelles features ou encore séparer les données d'entrainement et de test. le tout en utilisant des méthodes comme .info() ou .describe() par exemple.\n",
        "\n",
        "\n",
        "#### Question 2 : Quelle différence y-a-t'il entre les données train et les données test ?\n",
        "\n",
        "Le jeu train contient les données avec la colonne “Survived”, alors que le jeu test ne contient que les caractéristiques sans la colonne “Survived”.Train sert donc à l'apprentisssage et test sert à la prédiction\n",
        "\n",
        "\n",
        "#### Question 3 : Quel est le rôle de ces deux sets de données ?\n",
        "\n",
        "Comme dit juste avant, Le set train sert à entraîner le modèle et le set test sert à évaluer ses performances sur de nouvelles données.\n",
        "\n"
      ]
    },
    {
      "cell_type": "markdown",
      "metadata": {
        "_cell_guid": "f9595646-65c9-6fc4-395f-0befc4d122ce",
        "_uuid": "66273d64a2548d7a88464ab2a73dbdedfbdc488b",
        "id": "Dhs_gVIau2AO"
      },
      "source": [
        "## 2. Analyse des features"
      ]
    },
    {
      "cell_type": "markdown",
      "metadata": {
        "_cell_guid": "9b4c278b-aaca-e92c-ba77-b9b48379d1f1",
        "_uuid": "c2b62e14d493c270ec8df9f3af1938c479361ef3",
        "id": "VX0SSIFlu2AO"
      },
      "source": [
        "2.1 Analyser l'effet de la variable Classe sur le taux de survie, en affichant le % de survie par classe"
      ]
    },
    {
      "cell_type": "code",
      "execution_count": null,
      "metadata": {
        "id": "Np6EiCdKu2AO",
        "colab": {
          "base_uri": "https://localhost:8080/"
        },
        "outputId": "89d48112-62d6-4220-eb31-e108278cf56e"
      },
      "outputs": [
        {
          "output_type": "stream",
          "name": "stdout",
          "text": [
            "Pclass\n",
            "1    62.962963\n",
            "2    47.282609\n",
            "3    24.236253\n",
            "Name: Survived, dtype: float64\n"
          ]
        }
      ],
      "source": [
        "survie_par_classe = train.groupby(\"Pclass\")[\"Survived\"].mean() * 100\n",
        "print(survie_par_classe)"
      ]
    },
    {
      "cell_type": "markdown",
      "metadata": {
        "_cell_guid": "4680d950-cf7d-a6ae-e813-535e2247d88e",
        "_uuid": "f02533e7b85bba0cca7fcf2cc598c8da92d7646d",
        "id": "5UyA7jviu2AO"
      },
      "source": [
        "2.2 Analyser l'effet de la variable Genre (Sex) sur le taux de survie, en affichant le % de survie par classe"
      ]
    },
    {
      "cell_type": "code",
      "execution_count": null,
      "metadata": {
        "_cell_guid": "4680d950-cf7d-a6ae-e813-535e2247d88e",
        "_uuid": "f02533e7b85bba0cca7fcf2cc598c8da92d7646d",
        "id": "cwL6ohqDu2AO",
        "colab": {
          "base_uri": "https://localhost:8080/"
        },
        "outputId": "c152df11-99cc-4a3a-b074-34e54fb7ea2f"
      },
      "outputs": [
        {
          "output_type": "stream",
          "name": "stdout",
          "text": [
            "Sex\n",
            "female    74.203822\n",
            "male      18.890815\n",
            "Name: Survived, dtype: float64\n"
          ]
        }
      ],
      "source": [
        "survie_par_genre = train.groupby(\"Sex\")[\"Survived\"].mean() * 100\n",
        "print(survie_par_genre)"
      ]
    },
    {
      "cell_type": "code",
      "source": [],
      "metadata": {
        "id": "ZgKJYzO362bt"
      },
      "execution_count": null,
      "outputs": []
    },
    {
      "cell_type": "markdown",
      "metadata": {
        "_cell_guid": "7c58b7ee-d6a1-0cc9-2346-81c47846a54a",
        "_uuid": "88185e9222c26d5d23caaeb209c18710a231b5f9",
        "id": "OlkKiVX0u2AP"
      },
      "source": [
        "2.3 Calculer une nouvelle colonne FamilySize contenant la taille de la famille, pour les DataFrame train et Test. Afficher pour 10 exemples l'Id du passager, le nom, l'age, le sexe et la taille de la famille."
      ]
    },
    {
      "cell_type": "code",
      "execution_count": 14,
      "metadata": {
        "_cell_guid": "1a537f10-7cec-d0b7-8a34-fa9975655190",
        "_uuid": "ccc4a4cf7624dd4be450fd62ca3ad478d4e75696",
        "id": "pX3roBZru2AP",
        "colab": {
          "base_uri": "https://localhost:8080/"
        },
        "outputId": "0ce4b139-6823-4af4-fbf2-6327cc29d5b4"
      },
      "outputs": [
        {
          "output_type": "stream",
          "name": "stdout",
          "text": [
            "                                                          Name   Age     Sex  \\\n",
            "PassengerId                                                                    \n",
            "1                                      Braund, Mr. Owen Harris  22.0    male   \n",
            "2            Cumings, Mrs. John Bradley (Florence Briggs Th...  38.0  female   \n",
            "3                                       Heikkinen, Miss. Laina  26.0  female   \n",
            "4                 Futrelle, Mrs. Jacques Heath (Lily May Peel)  35.0  female   \n",
            "5                                     Allen, Mr. William Henry  35.0    male   \n",
            "6                                             Moran, Mr. James   NaN    male   \n",
            "7                                      McCarthy, Mr. Timothy J  54.0    male   \n",
            "8                               Palsson, Master. Gosta Leonard   2.0    male   \n",
            "9            Johnson, Mrs. Oscar W (Elisabeth Vilhelmina Berg)  27.0  female   \n",
            "10                         Nasser, Mrs. Nicholas (Adele Achem)  14.0  female   \n",
            "\n",
            "             FamilySize  \n",
            "PassengerId              \n",
            "1                     2  \n",
            "2                     2  \n",
            "3                     1  \n",
            "4                     2  \n",
            "5                     1  \n",
            "6                     1  \n",
            "7                     1  \n",
            "8                     5  \n",
            "9                     3  \n",
            "10                    2  \n"
          ]
        }
      ],
      "source": [
        "train[\"FamilySize\"] = train[\"SibSp\"] + train[\"Parch\"] + 1\n",
        "print(train[[\"Name\", \"Age\", \"Sex\", \"FamilySize\"]].head(10))\n",
        "\n"
      ]
    },
    {
      "cell_type": "markdown",
      "metadata": {
        "id": "65fPCGqzu2AP"
      },
      "source": [
        "2.4 Visualisez le nombre de personnes et le taux de survie par taille de famille."
      ]
    },
    {
      "cell_type": "code",
      "execution_count": 11,
      "metadata": {
        "_cell_guid": "1a537f10-7cec-d0b7-8a34-fa9975655190",
        "_uuid": "ccc4a4cf7624dd4be450fd62ca3ad478d4e75696",
        "id": "d1TlQ49Vu2AP",
        "colab": {
          "base_uri": "https://localhost:8080/",
          "height": 472
        },
        "outputId": "b3e247f8-25ba-46f4-a376-169ed929d85e"
      },
      "outputs": [
        {
          "output_type": "display_data",
          "data": {
            "text/plain": [
              "<Figure size 640x480 with 2 Axes>"
            ],
            "image/png": "[encoded data removed]"
          },
          "metadata": {}
        }
      ],
      "source": [
        "import matplotlib.pyplot as plt\n",
        "\n",
        "# Nombre de personnes par taille de famille\n",
        "family_counts = train[\"FamilySize\"].value_counts().sort_index()\n",
        "\n",
        "# Taux de survie par taille de famille\n",
        "family_survival = train.groupby(\"FamilySize\")[\"Survived\"].mean() * 100\n",
        "\n",
        "# Affichage combiné\n",
        "fig, ax1 = plt.subplots()\n",
        "\n",
        "ax1.bar(family_counts.index, family_counts.values, alpha=0.6, color='skyblue', label='Nombre de passagers')\n",
        "ax1.set_xlabel(\"Taille de la famille\")\n",
        "ax1.set_ylabel(\"Nombre de passagers\", color='blue')\n",
        "\n",
        "ax2 = ax1.twinx()\n",
        "ax2.plot(family_survival.index, family_survival.values, color='red', marker='o', label='Taux de survie (%)')\n",
        "ax2.set_ylabel(\"Taux de survie (%)\", color='red')\n",
        "\n",
        "plt.title(\"Nombre de passagers et taux de survie selon la taille de la famille\")\n",
        "plt.show()\n"
      ]
    },
    {
      "cell_type": "markdown",
      "metadata": {
        "_cell_guid": "7c58b7ee-d6a1-0cc9-2346-81c47846a54a",
        "_uuid": "88185e9222c26d5d23caaeb209c18710a231b5f9",
        "id": "ri7JxYm_u2AP"
      },
      "source": [
        "2.5 Calculer une nouvelle colonne IsAlone indiquant si le passager est seul ou pas, pour les DataFrame train et Test. Afficher pour 10 exemples l'Id du passager, le nom, l'age, le sexe et le status IsAlone."
      ]
    },
    {
      "cell_type": "code",
      "execution_count": 22,
      "metadata": {
        "_cell_guid": "8c35e945-c928-e3bc-bd9c-d6ddb287e4c9",
        "_uuid": "87f79dc0711c29f39c0db1a4f7a2e8a84c0c7edb",
        "id": "nudOn7__u2AP",
        "colab": {
          "base_uri": "https://localhost:8080/"
        },
        "outputId": "9a8dab96-eb45-473e-e6d9-bb154e6402a4"
      },
      "outputs": [
        {
          "output_type": "stream",
          "name": "stdout",
          "text": [
            "                                           Name   Age     Sex  IsAlone\n",
            "0                              Kelly, Mr. James  34.5    male        1\n",
            "1              Wilkes, Mrs. James (Ellen Needs)  47.0  female        0\n",
            "2                     Myles, Mr. Thomas Francis  62.0    male        1\n",
            "3                              Wirz, Mr. Albert  27.0    male        1\n",
            "4  Hirvonen, Mrs. Alexander (Helga E Lindqvist)  22.0  female        0\n",
            "5                    Svensson, Mr. Johan Cervin  14.0    male        1\n",
            "6                          Connolly, Miss. Kate  30.0  female        1\n",
            "7                  Caldwell, Mr. Albert Francis  26.0    male        0\n",
            "8     Abrahim, Mrs. Joseph (Sophie Halaut Easu)  18.0  female        1\n",
            "9                       Davies, Mr. John Samuel  21.0    male        0\n",
            "                                                          Name   Age     Sex  \\\n",
            "PassengerId                                                                    \n",
            "1                                      Braund, Mr. Owen Harris  22.0    male   \n",
            "2            Cumings, Mrs. John Bradley (Florence Briggs Th...  38.0  female   \n",
            "3                                       Heikkinen, Miss. Laina  26.0  female   \n",
            "4                 Futrelle, Mrs. Jacques Heath (Lily May Peel)  35.0  female   \n",
            "5                                     Allen, Mr. William Henry  35.0    male   \n",
            "6                                             Moran, Mr. James   NaN    male   \n",
            "7                                      McCarthy, Mr. Timothy J  54.0    male   \n",
            "8                               Palsson, Master. Gosta Leonard   2.0    male   \n",
            "9            Johnson, Mrs. Oscar W (Elisabeth Vilhelmina Berg)  27.0  female   \n",
            "10                         Nasser, Mrs. Nicholas (Adele Achem)  14.0  female   \n",
            "\n",
            "             IsAlone  \n",
            "PassengerId           \n",
            "1                  0  \n",
            "2                  0  \n",
            "3                  1  \n",
            "4                  0  \n",
            "5                  1  \n",
            "6                  1  \n",
            "7                  1  \n",
            "8                  0  \n",
            "9                  0  \n",
            "10                 0  \n"
          ]
        }
      ],
      "source": [
        "# on ajoute Family size a test également\n",
        "test[\"FamilySize\"] = test[\"SibSp\"] + test[\"Parch\"] + 1\n",
        "\n",
        "train[\"IsAlone\"] = (train[\"FamilySize\"] == 1).astype(int)\n",
        "test[\"IsAlone\"] = (test[\"FamilySize\"] == 1).astype(int)\n",
        "print(test[[\"Name\", \"Age\", \"Sex\", \"IsAlone\"]].head(10))\n",
        "print(train[[\"Name\", \"Age\", \"Sex\", \"IsAlone\"]].head(10))\n"
      ]
    },
    {
      "cell_type": "markdown",
      "metadata": {
        "id": "L8uPXImiu2AP"
      },
      "source": [
        "2.6 Visualisez le nombre de personnes et le taux de survie par statut seul ou pas."
      ]
    },
    {
      "cell_type": "code",
      "execution_count": 23,
      "metadata": {
        "_cell_guid": "8c35e945-c928-e3bc-bd9c-d6ddb287e4c9",
        "_uuid": "87f79dc0711c29f39c0db1a4f7a2e8a84c0c7edb",
        "id": "NljfIDWRu2AP",
        "colab": {
          "base_uri": "https://localhost:8080/",
          "height": 472
        },
        "outputId": "33a1cadd-f0f3-455d-874b-b66351b80527"
      },
      "outputs": [
        {
          "output_type": "display_data",
          "data": {
            "text/plain": [
              "<Figure size 640x480 with 2 Axes>"
            ],
            "image/png": "[encoded data removed]"
          },
          "metadata": {}
        }
      ],
      "source": [
        "alone_counts = train[\"IsAlone\"].value_counts()\n",
        "alone_survival = train.groupby(\"IsAlone\")[\"Survived\"].mean() * 100\n",
        "\n",
        "fig, ax1 = plt.subplots()\n",
        "ax1.bar(alone_counts.index, alone_counts.values, color=['orange', 'skyblue'], alpha=0.7)\n",
        "ax1.set_xlabel(\"IsAlone (1=seul, 0=accompagné)\")\n",
        "ax1.set_ylabel(\"Nombre de passagers\", color='blue')\n",
        "\n",
        "ax2 = ax1.twinx()\n",
        "ax2.plot(alone_survival.index, alone_survival.values, color='red', marker='o')\n",
        "ax2.set_ylabel(\"Taux de survie (%)\", color='red')\n",
        "\n",
        "plt.title(\"Nombre de passagers et taux de survie selon le statut IsAlone\")\n",
        "plt.show()\n"
      ]
    },
    {
      "cell_type": "markdown",
      "metadata": {
        "id": "MtAkdudvu2AP"
      },
      "source": [
        "2.7 Calculer l'information mutuelle sur les données train.\n",
        "\n",
        "Attention : Il y a des données continues et des données discrètes\n",
        "\n",
        "Ignorer les colonnes Name, Ticket et Cabin"
      ]
    },
    {
      "cell_type": "code",
      "execution_count": 25,
      "metadata": {
        "id": "OI-FIZAJu2AP",
        "colab": {
          "base_uri": "https://localhost:8080/"
        },
        "outputId": "1eb2b3b9-e926-44b2-9986-299975fbd96c"
      },
      "outputs": [
        {
          "output_type": "stream",
          "name": "stdout",
          "text": [
            "Sex           0.150870\n",
            "Fare          0.141012\n",
            "Pclass        0.058107\n",
            "FamilySize    0.047781\n",
            "SibSp         0.023197\n",
            "IsAlone       0.020593\n",
            "Embarked      0.016668\n",
            "Parch         0.016366\n",
            "Age           0.009917\n",
            "dtype: float64\n"
          ]
        },
        {
          "output_type": "stream",
          "name": "stderr",
          "text": [
            "/tmp/ipython-input-1318806438.py:12: FutureWarning: A value is trying to be set on a copy of a DataFrame or Series through chained assignment using an inplace method.\n",
            "The behavior will change in pandas 3.0. This inplace method will never work because the intermediate object on which we are setting values always behaves as a copy.\n",
            "\n",
            "For example, when doing 'df[col].method(value, inplace=True)', try using 'df.method({col: value}, inplace=True)' or df[col] = df[col].method(value) instead, to perform the operation inplace on the original object.\n",
            "\n",
            "\n",
            "  X[col].fillna(X[col].mean(), inplace=True)  # pour les numériques\n",
            "/tmp/ipython-input-1318806438.py:10: FutureWarning: A value is trying to be set on a copy of a DataFrame or Series through chained assignment using an inplace method.\n",
            "The behavior will change in pandas 3.0. This inplace method will never work because the intermediate object on which we are setting values always behaves as a copy.\n",
            "\n",
            "For example, when doing 'df[col].method(value, inplace=True)', try using 'df.method({col: value}, inplace=True)' or df[col] = df[col].method(value) instead, to perform the operation inplace on the original object.\n",
            "\n",
            "\n",
            "  X[col].fillna(\"Missing\", inplace=True)  # pour les variables catégorielles\n"
          ]
        }
      ],
      "source": [
        "from sklearn.feature_selection import mutual_info_classif\n",
        "\n",
        "# On retire les colonnes inutiles\n",
        "X = train.drop(columns=[\"Survived\", \"Name\", \"Ticket\", \"Cabin\"])\n",
        "y = train[\"Survived\"]\n",
        "\n",
        "# Remplir les valeurs manquantes (temporaires)\n",
        "for col in X.columns:\n",
        "    if X[col].dtype == 'object':\n",
        "        X[col].fillna(\"Missing\", inplace=True)  # pour les variables catégorielles\n",
        "    else:\n",
        "        X[col].fillna(X[col].mean(), inplace=True)  # pour les numériques\n",
        "\n",
        "# Encoder les catégories en nombres\n",
        "for col in X.columns:\n",
        "    if X[col].dtype == 'object':\n",
        "        X[col], _ = X[col].factorize()\n",
        "\n",
        "# Identifier les colonnes discrètes\n",
        "discrete_features = X.dtypes == int\n",
        "\n",
        "# Calcul de l'information mutuelle\n",
        "mi_scores = mutual_info_classif(X, y, discrete_features=discrete_features)\n",
        "mi = pd.Series(mi_scores, index=X.columns).sort_values(ascending=False)\n",
        "\n",
        "print(mi)\n",
        "\n"
      ]
    },
    {
      "cell_type": "markdown",
      "metadata": {
        "id": "f3FLmzuFu2AP"
      },
      "source": [
        "2.8 Afficher dans un graphique les scores d'information mutuelle par feature"
      ]
    },
    {
      "cell_type": "code",
      "execution_count": 26,
      "metadata": {
        "id": "Oe8EIddwu2AP",
        "colab": {
          "base_uri": "https://localhost:8080/",
          "height": 564
        },
        "outputId": "9b4198c9-2523-415c-9873-d8497e5c0443"
      },
      "outputs": [
        {
          "output_type": "display_data",
          "data": {
            "text/plain": [
              "<Figure size 800x600 with 1 Axes>"
            ],
            "image/png": "[encoded data removed]"
          },
          "metadata": {}
        }
      ],
      "source": [
        "mi.sort_values().plot.barh(figsize=(8,6), color='teal')\n",
        "plt.title(\"Information mutuelle par variable\")\n",
        "plt.xlabel(\"Score MI\")\n",
        "plt.show()\n"
      ]
    },
    {
      "cell_type": "code",
      "source": [],
      "metadata": {
        "id": "kWjHH_B0b4K5"
      },
      "execution_count": null,
      "outputs": []
    },
    {
      "cell_type": "markdown",
      "metadata": {
        "id": "TzpISOwvu2AP"
      },
      "source": [
        "### Question 1 : La variable Classe est-elle utile pour prévoir la survie ? Pourquoi ?\n",
        "\n",
        "Oui, car les passagers de 1ʳᵉ classe ont un taux de survie plus élevé, donc la classe influence la survie.\n",
        "\n",
        "### Question 2 : Même question pour la variable Sex\n",
        "Oui, les femmes ont survécu beaucoup plus souvent (effet majeur sur la prédiction).\n",
        "\n",
        "### Question 3 : Comment traiter le variables liées à la famille du passager ?\n",
        "\n",
        "On crée de nouvelles variables comme FamilySize et IsAlone pour mieux capturer leur effet.\n",
        "\n"
      ]
    },
    {
      "cell_type": "markdown",
      "metadata": {
        "id": "P1OHVcnGu2AQ"
      },
      "source": [
        "## 3. Traitement des données manquantes (à faire sur les données Train et Test)"
      ]
    },
    {
      "cell_type": "markdown",
      "metadata": {
        "_cell_guid": "8aa419c0-6614-7efc-7797-97f4a5158b19",
        "_uuid": "dd18a31086cfeca6330b05f83caf3cc02f687253",
        "id": "RK3etgY5u2AQ"
      },
      "source": [
        "3.1 La variable \"Embarked\" possède des valeurs nulles, compléter par la valeur majoritaire (S)."
      ]
    },
    {
      "cell_type": "code",
      "execution_count": 28,
      "metadata": {
        "_cell_guid": "0e70e9af-d7cc-8c40-b7d4-2643889c376d",
        "_uuid": "b4f7ccb3df98da6915bda1c7c225b905fc37845b",
        "id": "WvLSsN24u2AQ",
        "colab": {
          "base_uri": "https://localhost:8080/"
        },
        "outputId": "363f2fe1-e683-4bde-8bab-40ed40fd8aff"
      },
      "outputs": [
        {
          "output_type": "stream",
          "name": "stderr",
          "text": [
            "/tmp/ipython-input-581618917.py:2: FutureWarning: A value is trying to be set on a copy of a DataFrame or Series through chained assignment using an inplace method.\n",
            "The behavior will change in pandas 3.0. This inplace method will never work because the intermediate object on which we are setting values always behaves as a copy.\n",
            "\n",
            "For example, when doing 'df[col].method(value, inplace=True)', try using 'df.method({col: value}, inplace=True)' or df[col] = df[col].method(value) instead, to perform the operation inplace on the original object.\n",
            "\n",
            "\n",
            "  test[\"Embarked\"].fillna(\"S\", inplace=True)\n"
          ]
        }
      ],
      "source": [
        "train[\"Embarked\"].fillna(\"S\", inplace=True)\n",
        "test[\"Embarked\"].fillna(\"S\", inplace=True)\n"
      ]
    },
    {
      "cell_type": "markdown",
      "metadata": {
        "id": "7SjiAcyKu2AQ"
      },
      "source": [
        "3.2 Afficher l'influence du port d'embarquement sur la Survie"
      ]
    },
    {
      "cell_type": "code",
      "execution_count": 29,
      "metadata": {
        "_cell_guid": "0e70e9af-d7cc-8c40-b7d4-2643889c376d",
        "_uuid": "b4f7ccb3df98da6915bda1c7c225b905fc37845b",
        "id": "yw6DpwnCu2AQ",
        "colab": {
          "base_uri": "https://localhost:8080/"
        },
        "outputId": "e421c6d3-9411-4287-a971-02070c479a58"
      },
      "outputs": [
        {
          "output_type": "stream",
          "name": "stdout",
          "text": [
            "Embarked\n",
            "C    55.357143\n",
            "Q    38.961039\n",
            "S    33.900929\n",
            "Name: Survived, dtype: float64\n"
          ]
        }
      ],
      "source": [
        "embarked_survival = train.groupby(\"Embarked\")[\"Survived\"].mean() * 100\n",
        "print(embarked_survival)\n"
      ]
    },
    {
      "cell_type": "markdown",
      "metadata": {
        "_cell_guid": "e08c9ee8-d6d1-99b7-38bd-f0042c18a5d9",
        "_uuid": "bbeb369d4bb1b086fcc3257218fdeeb6bcdb53c0",
        "id": "eihIA2cNu2AQ"
      },
      "source": [
        "3.3 La variable \"Fare\" (prix du ticket) possède des valeurs manquantes. Remplacer ces valeurs par la valeur médiane."
      ]
    },
    {
      "cell_type": "code",
      "execution_count": 31,
      "metadata": {
        "_cell_guid": "a21335bd-4e8d-66e8-e6a5-5d2173b72d3b",
        "_uuid": "f04975f236aad78d3f93812512088404b5c9280e",
        "id": "lDAQBV4vu2AQ",
        "colab": {
          "base_uri": "https://localhost:8080/"
        },
        "outputId": "9941788c-f3f3-415f-a680-2f7ab42b95bc"
      },
      "outputs": [
        {
          "output_type": "stream",
          "name": "stderr",
          "text": [
            "/tmp/ipython-input-1473207577.py:1: FutureWarning: A value is trying to be set on a copy of a DataFrame or Series through chained assignment using an inplace method.\n",
            "The behavior will change in pandas 3.0. This inplace method will never work because the intermediate object on which we are setting values always behaves as a copy.\n",
            "\n",
            "For example, when doing 'df[col].method(value, inplace=True)', try using 'df.method({col: value}, inplace=True)' or df[col] = df[col].method(value) instead, to perform the operation inplace on the original object.\n",
            "\n",
            "\n",
            "  test[\"Fare\"].fillna(test[\"Fare\"].median(), inplace=True)\n"
          ]
        }
      ],
      "source": [
        "test[\"Fare\"].fillna(test[\"Fare\"].median(), inplace=True)\n"
      ]
    },
    {
      "cell_type": "markdown",
      "metadata": {
        "id": "Q1ah0DLPu2AU"
      },
      "source": [
        "3.4 Créer une variable CategoricalFare Découpant la valeur de ticket en 4 catégories de tailles à peu près égales."
      ]
    },
    {
      "cell_type": "code",
      "execution_count": 32,
      "metadata": {
        "_cell_guid": "a21335bd-4e8d-66e8-e6a5-5d2173b72d3b",
        "_uuid": "f04975f236aad78d3f93812512088404b5c9280e",
        "id": "0R1xf8xDu2AU"
      },
      "outputs": [],
      "source": [
        "train[\"CategoricalFare\"] = pd.qcut(train[\"Fare\"], 4)\n",
        "test[\"CategoricalFare\"] = pd.qcut(test[\"Fare\"], 4)\n"
      ]
    },
    {
      "cell_type": "markdown",
      "metadata": {
        "id": "5VVVkrnzu2AU"
      },
      "source": [
        "3.5 Analyser l'effet de ces catégories de prix de ticket sur la survie."
      ]
    },
    {
      "cell_type": "code",
      "execution_count": 33,
      "metadata": {
        "_cell_guid": "a21335bd-4e8d-66e8-e6a5-5d2173b72d3b",
        "_uuid": "f04975f236aad78d3f93812512088404b5c9280e",
        "id": "hA4xNCazu2AU",
        "colab": {
          "base_uri": "https://localhost:8080/"
        },
        "outputId": "e72226b1-72e7-4c7c-dc98-07b5d8a7ae07"
      },
      "outputs": [
        {
          "output_type": "stream",
          "name": "stdout",
          "text": [
            "CategoricalFare\n",
            "(-0.001, 7.91]     19.730942\n",
            "(7.91, 14.454]     30.357143\n",
            "(14.454, 31.0]     45.495495\n",
            "(31.0, 512.329]    58.108108\n",
            "Name: Survived, dtype: float64\n"
          ]
        },
        {
          "output_type": "stream",
          "name": "stderr",
          "text": [
            "/tmp/ipython-input-3790745178.py:1: FutureWarning: The default of observed=False is deprecated and will be changed to True in a future version of pandas. Pass observed=False to retain current behavior or observed=True to adopt the future default and silence this warning.\n",
            "  fare_survival = train.groupby(\"CategoricalFare\")[\"Survived\"].mean() * 100\n"
          ]
        }
      ],
      "source": [
        "fare_survival = train.groupby(\"CategoricalFare\")[\"Survived\"].mean() * 100\n",
        "print(fare_survival)\n"
      ]
    },
    {
      "cell_type": "markdown",
      "metadata": {
        "id": "UUJ6h_Bvu2AU"
      },
      "source": [
        "3.6 Combien de valeurs d'Age manquent ? Complète par des valeurs entières aléatoires entre (moyenne - écart type) et (moyenne + écart type)."
      ]
    },
    {
      "cell_type": "code",
      "execution_count": 35,
      "metadata": {
        "_cell_guid": "b90c2870-ce5d-ae0e-a33d-59e35445500e",
        "_uuid": "2af2b56d51752be08b84dbb2684466976758faa7",
        "id": "jdZ0rdUcu2AU",
        "colab": {
          "base_uri": "https://localhost:8080/"
        },
        "outputId": "5fd81100-f5f2-4b44-8540-2410f687b5df"
      },
      "outputs": [
        {
          "output_type": "stream",
          "name": "stderr",
          "text": [
            "/tmp/ipython-input-639097766.py:7: FutureWarning: A value is trying to be set on a copy of a DataFrame or Series through chained assignment using an inplace method.\n",
            "The behavior will change in pandas 3.0. This inplace method will never work because the intermediate object on which we are setting values always behaves as a copy.\n",
            "\n",
            "For example, when doing 'df[col].method(value, inplace=True)', try using 'df.method({col: value}, inplace=True)' or df[col] = df[col].method(value) instead, to perform the operation inplace on the original object.\n",
            "\n",
            "\n",
            "  test[\"Age\"].fillna(test[\"Age\"].median(), inplace=True)\n"
          ]
        }
      ],
      "source": [
        "\n",
        "avg_age = train[\"Age\"].mean()\n",
        "std_age = train[\"Age\"].std()\n",
        "nb_nan_age = train[\"Age\"].isnull().sum()\n",
        "\n",
        "random_ages = np.random.randint(avg_age - std_age, avg_age + std_age, size=nb_nan_age)\n",
        "train.loc[train[\"Age\"].isnull(), \"Age\"] = random_ages\n",
        "test[\"Age\"].fillna(test[\"Age\"].median(), inplace=True)\n"
      ]
    },
    {
      "cell_type": "markdown",
      "metadata": {
        "id": "pLoi6S_Wu2AU"
      },
      "source": [
        "3.7 Créer une variable CategoricalAge Découpant la valeur d'age en 5 tranches d'age de même taille."
      ]
    },
    {
      "cell_type": "code",
      "execution_count": 36,
      "metadata": {
        "_cell_guid": "b90c2870-ce5d-ae0e-a33d-59e35445500e",
        "_uuid": "2af2b56d51752be08b84dbb2684466976758faa7",
        "id": "hkSTPksUu2AU",
        "colab": {
          "base_uri": "https://localhost:8080/",
          "height": 356
        },
        "outputId": "59332af3-e946-49e2-81eb-0d762505e814"
      },
      "outputs": [
        {
          "output_type": "error",
          "ename": "ValueError",
          "evalue": "Bin edges must be unique: Index([0.17, 21.0, 27.0, 27.0, 39.0, 76.0], dtype='float64', name='Age').\nYou can drop duplicate edges by setting the 'duplicates' kwarg",
          "traceback": [
            "\u001b[0;31m---------------------------------------------------------------------------\u001b[0m",
            "\u001b[0;31mValueError\u001b[0m                                Traceback (most recent call last)",
            "\u001b[0;32m/tmp/ipython-input-1915805914.py\u001b[0m in \u001b[0;36m<cell line: 0>\u001b[0;34m()\u001b[0m\n\u001b[1;32m      1\u001b[0m \u001b[0mtrain\u001b[0m\u001b[0;34m[\u001b[0m\u001b[0;34m\"CategoricalAge\"\u001b[0m\u001b[0;34m]\u001b[0m \u001b[0;34m=\u001b[0m \u001b[0mpd\u001b[0m\u001b[0;34m.\u001b[0m\u001b[0mqcut\u001b[0m\u001b[0;34m(\u001b[0m\u001b[0mtrain\u001b[0m\u001b[0;34m[\u001b[0m\u001b[0;34m\"Age\"\u001b[0m\u001b[0;34m]\u001b[0m\u001b[0;34m,\u001b[0m \u001b[0;36m5\u001b[0m\u001b[0;34m)\u001b[0m\u001b[0;34m\u001b[0m\u001b[0;34m\u001b[0m\u001b[0m\n\u001b[0;32m----> 2\u001b[0;31m \u001b[0mtest\u001b[0m\u001b[0;34m[\u001b[0m\u001b[0;34m\"CategoricalAge\"\u001b[0m\u001b[0;34m]\u001b[0m \u001b[0;34m=\u001b[0m \u001b[0mpd\u001b[0m\u001b[0;34m.\u001b[0m\u001b[0mqcut\u001b[0m\u001b[0;34m(\u001b[0m\u001b[0mtest\u001b[0m\u001b[0;34m[\u001b[0m\u001b[0;34m\"Age\"\u001b[0m\u001b[0;34m]\u001b[0m\u001b[0;34m,\u001b[0m \u001b[0;36m5\u001b[0m\u001b[0;34m)\u001b[0m\u001b[0;34m\u001b[0m\u001b[0;34m\u001b[0m\u001b[0m\n\u001b[0m",
            "\u001b[0;32m/usr/local/lib/python3.12/dist-packages/pandas/core/reshape/tile.py\u001b[0m in \u001b[0;36mqcut\u001b[0;34m(x, q, labels, retbins, precision, duplicates)\u001b[0m\n\u001b[1;32m    338\u001b[0m     \u001b[0mbins\u001b[0m \u001b[0;34m=\u001b[0m \u001b[0mx_idx\u001b[0m\u001b[0;34m.\u001b[0m\u001b[0mto_series\u001b[0m\u001b[0;34m(\u001b[0m\u001b[0;34m)\u001b[0m\u001b[0;34m.\u001b[0m\u001b[0mdropna\u001b[0m\u001b[0;34m(\u001b[0m\u001b[0;34m)\u001b[0m\u001b[0;34m.\u001b[0m\u001b[0mquantile\u001b[0m\u001b[0;34m(\u001b[0m\u001b[0mquantiles\u001b[0m\u001b[0;34m)\u001b[0m\u001b[0;34m\u001b[0m\u001b[0;34m\u001b[0m\u001b[0m\n\u001b[1;32m    339\u001b[0m \u001b[0;34m\u001b[0m\u001b[0m\n\u001b[0;32m--> 340\u001b[0;31m     fac, bins = _bins_to_cuts(\n\u001b[0m\u001b[1;32m    341\u001b[0m         \u001b[0mx_idx\u001b[0m\u001b[0;34m,\u001b[0m\u001b[0;34m\u001b[0m\u001b[0;34m\u001b[0m\u001b[0m\n\u001b[1;32m    342\u001b[0m         \u001b[0mIndex\u001b[0m\u001b[0;34m(\u001b[0m\u001b[0mbins\u001b[0m\u001b[0;34m)\u001b[0m\u001b[0;34m,\u001b[0m\u001b[0;34m\u001b[0m\u001b[0;34m\u001b[0m\u001b[0m\n",
            "\u001b[0;32m/usr/local/lib/python3.12/dist-packages/pandas/core/reshape/tile.py\u001b[0m in \u001b[0;36m_bins_to_cuts\u001b[0;34m(x_idx, bins, right, labels, precision, include_lowest, duplicates, ordered)\u001b[0m\n\u001b[1;32m    441\u001b[0m     \u001b[0;32mif\u001b[0m \u001b[0mlen\u001b[0m\u001b[0;34m(\u001b[0m\u001b[0munique_bins\u001b[0m\u001b[0;34m)\u001b[0m \u001b[0;34m<\u001b[0m \u001b[0mlen\u001b[0m\u001b[0;34m(\u001b[0m\u001b[0mbins\u001b[0m\u001b[0;34m)\u001b[0m \u001b[0;32mand\u001b[0m \u001b[0mlen\u001b[0m\u001b[0;34m(\u001b[0m\u001b[0mbins\u001b[0m\u001b[0;34m)\u001b[0m \u001b[0;34m!=\u001b[0m \u001b[0;36m2\u001b[0m\u001b[0;34m:\u001b[0m\u001b[0;34m\u001b[0m\u001b[0;34m\u001b[0m\u001b[0m\n\u001b[1;32m    442\u001b[0m         \u001b[0;32mif\u001b[0m \u001b[0mduplicates\u001b[0m \u001b[0;34m==\u001b[0m \u001b[0;34m\"raise\"\u001b[0m\u001b[0;34m:\u001b[0m\u001b[0;34m\u001b[0m\u001b[0;34m\u001b[0m\u001b[0m\n\u001b[0;32m--> 443\u001b[0;31m             raise ValueError(\n\u001b[0m\u001b[1;32m    444\u001b[0m                 \u001b[0;34mf\"Bin edges must be unique: {repr(bins)}.\\n\"\u001b[0m\u001b[0;34m\u001b[0m\u001b[0;34m\u001b[0m\u001b[0m\n\u001b[1;32m    445\u001b[0m                 \u001b[0;34mf\"You can drop duplicate edges by setting the 'duplicates' kwarg\"\u001b[0m\u001b[0;34m\u001b[0m\u001b[0;34m\u001b[0m\u001b[0m\n",
            "\u001b[0;31mValueError\u001b[0m: Bin edges must be unique: Index([0.17, 21.0, 27.0, 27.0, 39.0, 76.0], dtype='float64', name='Age').\nYou can drop duplicate edges by setting the 'duplicates' kwarg"
          ]
        }
      ],
      "source": [
        "train[\"CategoricalAge\"] = pd.qcut(train[\"Age\"], 5)\n",
        "test[\"CategoricalAge\"] = pd.qcut(test[\"Age\"], 5)\n"
      ]
    },
    {
      "cell_type": "markdown",
      "metadata": {
        "id": "AITPQvcsu2AU"
      },
      "source": [
        "3.8 Analyser l'effet de ces catégories d'age sur la survie."
      ]
    },
    {
      "cell_type": "code",
      "execution_count": 37,
      "metadata": {
        "id": "dC6uyK8hu2AU",
        "colab": {
          "base_uri": "https://localhost:8080/"
        },
        "outputId": "8518aaf1-e09b-4cf7-9c1a-974737e130b3"
      },
      "outputs": [
        {
          "output_type": "stream",
          "name": "stdout",
          "text": [
            "CategoricalAge\n",
            "(0.419, 19.0]    45.077720\n",
            "(19.0, 25.0]     31.764706\n",
            "(25.0, 32.0]     37.500000\n",
            "(32.0, 40.0]     38.596491\n",
            "(40.0, 80.0]     38.181818\n",
            "Name: Survived, dtype: float64\n"
          ]
        },
        {
          "output_type": "stream",
          "name": "stderr",
          "text": [
            "/tmp/ipython-input-3111670945.py:1: FutureWarning: The default of observed=False is deprecated and will be changed to True in a future version of pandas. Pass observed=False to retain current behavior or observed=True to adopt the future default and silence this warning.\n",
            "  age_survival = train.groupby(\"CategoricalAge\")[\"Survived\"].mean() * 100\n"
          ]
        }
      ],
      "source": [
        "age_survival = train.groupby(\"CategoricalAge\")[\"Survived\"].mean() * 100\n",
        "print(age_survival)\n"
      ]
    },
    {
      "cell_type": "markdown",
      "metadata": {
        "id": "g-t9tSfnu2AU"
      },
      "source": [
        "### Question 1 : Classer les variables par ordre d'intérêt"
      ]
    },
    {
      "cell_type": "markdown",
      "metadata": {
        "id": "dXkraxUTu2AU"
      },
      "source": [
        "## 4 : Traitement de features complexes"
      ]
    },
    {
      "cell_type": "markdown",
      "metadata": {
        "_cell_guid": "bd25ec3f-b601-c1cc-d701-991fac1621f9",
        "_uuid": "17f6d181260d68d89f0a5dfa99b40a82b723567c",
        "id": "oRvWaVKKu2AV"
      },
      "source": [
        "4.1 : Le nom permet de retrouver le titre du passager. Trouver les titres lorsqu'ils existent."
      ]
    },
    {
      "cell_type": "code",
      "execution_count": 44,
      "metadata": {
        "_cell_guid": "ad042f43-bfe0-ded0-4171-379d8caaa749",
        "_uuid": "5a56f5b4bad78d7e323167c5f0cc07cb3675187a",
        "id": "hfdZx8yau2AV"
      },
      "outputs": [],
      "source": [
        "train[\"Title\"] = train[\"Name\"].str.extract(' ([A-Za-z]+)', expand=False)\n",
        "test[\"Title\"] = test[\"Name\"].str.extract(' ([A-Za-z]+)', expand=False)\n"
      ]
    },
    {
      "cell_type": "markdown",
      "metadata": {
        "id": "RwhWhn1yu2AV"
      },
      "source": [
        "4.2 : En utilisant la fonction pandas crosstab, afficher pour train le nombre d'occurences par titres (en ligne) et par sexe (en colonne)"
      ]
    },
    {
      "cell_type": "code",
      "execution_count": 39,
      "metadata": {
        "id": "2zsHMROIu2AV",
        "colab": {
          "base_uri": "https://localhost:8080/",
          "height": 614
        },
        "outputId": "e315c86c-3583-41dc-89d3-3e3496e09b1b"
      },
      "outputs": [
        {
          "output_type": "execute_result",
          "data": {
            "text/plain": [
              "Sex       female  male\n",
              "Title                 \n",
              "Capt           0     1\n",
              "Col            0     2\n",
              "Countess       1     0\n",
              "Don            0     1\n",
              "Dr             1     6\n",
              "Jonkheer       0     1\n",
              "Lady           1     0\n",
              "Major          0     2\n",
              "Master         0    40\n",
              "Miss         182     0\n",
              "Mlle           2     0\n",
              "Mme            1     0\n",
              "Mr             0   517\n",
              "Mrs          125     0\n",
              "Ms             1     0\n",
              "Rev            0     6\n",
              "Sir            0     1"
            ],
            "text/html": [
              "\n",
              "  <div id=\"df-39832370-44d7-441a-9e9d-32ddd54db55a\" class=\"colab-df-container\">\n",
              "    <div>\n",
              "<style scoped>\n",
              "    .dataframe tbody tr th:only-of-type {\n",
              "        vertical-align: middle;\n",
              "    }\n",
              "\n",
              "    .dataframe tbody tr th {\n",
              "        vertical-align: top;\n",
              "    }\n",
              "\n",
              "    .dataframe thead th {\n",
              "        text-align: right;\n",
              "    }\n",
              "</style>\n",
              "<table border=\"1\" class=\"dataframe\">\n",
              "  <thead>\n",
              "    <tr style=\"text-align: right;\">\n",
              "      <th>Sex</th>\n",
              "      <th>female</th>\n",
              "      <th>male</th>\n",
              "    </tr>\n",
              "    <tr>\n",
              "      <th>Title</th>\n",
              "      <th></th>\n",
              "      <th></th>\n",
              "    </tr>\n",
              "  </thead>\n",
              "  <tbody>\n",
              "    <tr>\n",
              "      <th>Capt</th>\n",
              "      <td>0</td>\n",
              "      <td>1</td>\n",
              "    </tr>\n",
              "    <tr>\n",
              "      <th>Col</th>\n",
              "      <td>0</td>\n",
              "      <td>2</td>\n",
              "    </tr>\n",
              "    <tr>\n",
              "      <th>Countess</th>\n",
              "      <td>1</td>\n",
              "      <td>0</td>\n",
              "    </tr>\n",
              "    <tr>\n",
              "      <th>Don</th>\n",
              "      <td>0</td>\n",
              "      <td>1</td>\n",
              "    </tr>\n",
              "    <tr>\n",
              "      <th>Dr</th>\n",
              "      <td>1</td>\n",
              "      <td>6</td>\n",
              "    </tr>\n",
              "    <tr>\n",
              "      <th>Jonkheer</th>\n",
              "      <td>0</td>\n",
              "      <td>1</td>\n",
              "    </tr>\n",
              "    <tr>\n",
              "      <th>Lady</th>\n",
              "      <td>1</td>\n",
              "      <td>0</td>\n",
              "    </tr>\n",
              "    <tr>\n",
              "      <th>Major</th>\n",
              "      <td>0</td>\n",
              "      <td>2</td>\n",
              "    </tr>\n",
              "    <tr>\n",
              "      <th>Master</th>\n",
              "      <td>0</td>\n",
              "      <td>40</td>\n",
              "    </tr>\n",
              "    <tr>\n",
              "      <th>Miss</th>\n",
              "      <td>182</td>\n",
              "      <td>0</td>\n",
              "    </tr>\n",
              "    <tr>\n",
              "      <th>Mlle</th>\n",
              "      <td>2</td>\n",
              "      <td>0</td>\n",
              "    </tr>\n",
              "    <tr>\n",
              "      <th>Mme</th>\n",
              "      <td>1</td>\n",
              "      <td>0</td>\n",
              "    </tr>\n",
              "    <tr>\n",
              "      <th>Mr</th>\n",
              "      <td>0</td>\n",
              "      <td>517</td>\n",
              "    </tr>\n",
              "    <tr>\n",
              "      <th>Mrs</th>\n",
              "      <td>125</td>\n",
              "      <td>0</td>\n",
              "    </tr>\n",
              "    <tr>\n",
              "      <th>Ms</th>\n",
              "      <td>1</td>\n",
              "      <td>0</td>\n",
              "    </tr>\n",
              "    <tr>\n",
              "      <th>Rev</th>\n",
              "      <td>0</td>\n",
              "      <td>6</td>\n",
              "    </tr>\n",
              "    <tr>\n",
              "      <th>Sir</th>\n",
              "      <td>0</td>\n",
              "      <td>1</td>\n",
              "    </tr>\n",
              "  </tbody>\n",
              "</table>\n",
              "</div>\n",
              "    <div class=\"colab-df-buttons\">\n",
              "\n",
              "  <div class=\"colab-df-container\">\n",
              "    <button class=\"colab-df-convert\" onclick=\"convertToInteractive('df-39832370-44d7-441a-9e9d-32ddd54db55a')\"\n",
              "            title=\"Convert this dataframe to an interactive table.\"\n",
              "            style=\"display:none;\">\n",
              "\n",
              "  <svg xmlns=\"http://www.w3.org/2000/svg\" height=\"24px\" viewBox=\"0 -960 960 960\">\n",
              "    <path d=\"M120-120v-720h720v720H120Zm60-500h600v-160H180v160Zm220 220h160v-160H400v160Zm0 220h160v-160H400v160ZM180-400h160v-160H180v160Zm440 0h160v-160H620v160ZM180-180h160v-160H180v160Zm440 0h160v-160H620v160Z\"/>\n",
              "  </svg>\n",
              "    </button>\n",
              "\n",
              "  <style>\n",
              "    .colab-df-container {\n",
              "      display:flex;\n",
              "      gap: 12px;\n",
              "    }\n",
              "\n",
              "    .colab-df-convert {\n",
              "      background-color: #E8F0FE;\n",
              "      border: none;\n",
              "      border-radius: 50%;\n",
              "      cursor: pointer;\n",
              "      display: none;\n",
              "      fill: #1967D2;\n",
              "      height: 32px;\n",
              "      padding: 0 0 0 0;\n",
              "      width: 32px;\n",
              "    }\n",
              "\n",
              "    .colab-df-convert:hover {\n",
              "      background-color: #E2EBFA;\n",
              "      box-shadow: 0px 1px 2px rgba(60, 64, 67, 0.3), 0px 1px 3px 1px rgba(60, 64, 67, 0.15);\n",
              "      fill: #174EA6;\n",
              "    }\n",
              "\n",
              "    .colab-df-buttons div {\n",
              "      margin-bottom: 4px;\n",
              "    }\n",
              "\n",
              "    [theme=dark] .colab-df-convert {\n",
              "      background-color: #3B4455;\n",
              "      fill: #D2E3FC;\n",
              "    }\n",
              "\n",
              "    [theme=dark] .colab-df-convert:hover {\n",
              "      background-color: #434B5C;\n",
              "      box-shadow: 0px 1px 3px 1px rgba(0, 0, 0, 0.15);\n",
              "      filter: drop-shadow(0px 1px 2px rgba(0, 0, 0, 0.3));\n",
              "      fill: #FFFFFF;\n",
              "    }\n",
              "  </style>\n",
              "\n",
              "    <script>\n",
              "      const buttonEl =\n",
              "        document.querySelector('#df-39832370-44d7-441a-9e9d-32ddd54db55a button.colab-df-convert');\n",
              "      buttonEl.style.display =\n",
              "        google.colab.kernel.accessAllowed ? 'block' : 'none';\n",
              "\n",
              "      async function convertToInteractive(key) {\n",
              "        const element = document.querySelector('#df-39832370-44d7-441a-9e9d-32ddd54db55a');\n",
              "        const dataTable =\n",
              "          await google.colab.kernel.invokeFunction('convertToInteractive',\n",
              "                                                    [key], {});\n",
              "        if (!dataTable) return;\n",
              "\n",
              "        const docLinkHtml = 'Like what you see? Visit the ' +\n",
              "          '<a target=\"_blank\" href=https://colab.research.google.com/notebooks/data_table.ipynb>data table notebook</a>'\n",
              "          + ' to learn more about interactive tables.';\n",
              "        element.innerHTML = '';\n",
              "        dataTable['output_type'] = 'display_data';\n",
              "        await google.colab.output.renderOutput(dataTable, element);\n",
              "        const docLink = document.createElement('div');\n",
              "        docLink.innerHTML = docLinkHtml;\n",
              "        element.appendChild(docLink);\n",
              "      }\n",
              "    </script>\n",
              "  </div>\n",
              "\n",
              "\n",
              "    <div id=\"df-137e19b9-04a6-48c3-9eda-8926dfd74e18\">\n",
              "      <button class=\"colab-df-quickchart\" onclick=\"quickchart('df-137e19b9-04a6-48c3-9eda-8926dfd74e18')\"\n",
              "                title=\"Suggest charts\"\n",
              "                style=\"display:none;\">\n",
              "\n",
              "<svg xmlns=\"http://www.w3.org/2000/svg\" height=\"24px\"viewBox=\"0 0 24 24\"\n",
              "     width=\"24px\">\n",
              "    <g>\n",
              "        <path d=\"M19 3H5c-1.1 0-2 .9-2 2v14c0 1.1.9 2 2 2h14c1.1 0 2-.9 2-2V5c0-1.1-.9-2-2-2zM9 17H7v-7h2v7zm4 0h-2V7h2v10zm4 0h-2v-4h2v4z\"/>\n",
              "    </g>\n",
              "</svg>\n",
              "      </button>\n",
              "\n",
              "<style>\n",
              "  .colab-df-quickchart {\n",
              "      --bg-color: #E8F0FE;\n",
              "      --fill-color: #1967D2;\n",
              "      --hover-bg-color: #E2EBFA;\n",
              "      --hover-fill-color: #174EA6;\n",
              "      --disabled-fill-color: #AAA;\n",
              "      --disabled-bg-color: #DDD;\n",
              "  }\n",
              "\n",
              "  [theme=dark] .colab-df-quickchart {\n",
              "      --bg-color: #3B4455;\n",
              "      --fill-color: #D2E3FC;\n",
              "      --hover-bg-color: #434B5C;\n",
              "      --hover-fill-color: #FFFFFF;\n",
              "      --disabled-bg-color: #3B4455;\n",
              "      --disabled-fill-color: #666;\n",
              "  }\n",
              "\n",
              "  .colab-df-quickchart {\n",
              "    background-color: var(--bg-color);\n",
              "    border: none;\n",
              "    border-radius: 50%;\n",
              "    cursor: pointer;\n",
              "    display: none;\n",
              "    fill: var(--fill-color);\n",
              "    height: 32px;\n",
              "    padding: 0;\n",
              "    width: 32px;\n",
              "  }\n",
              "\n",
              "  .colab-df-quickchart:hover {\n",
              "    background-color: var(--hover-bg-color);\n",
              "    box-shadow: 0 1px 2px rgba(60, 64, 67, 0.3), 0 1px 3px 1px rgba(60, 64, 67, 0.15);\n",
              "    fill: var(--button-hover-fill-color);\n",
              "  }\n",
              "\n",
              "  .colab-df-quickchart-complete:disabled,\n",
              "  .colab-df-quickchart-complete:disabled:hover {\n",
              "    background-color: var(--disabled-bg-color);\n",
              "    fill: var(--disabled-fill-color);\n",
              "    box-shadow: none;\n",
              "  }\n",
              "\n",
              "  .colab-df-spinner {\n",
              "    border: 2px solid var(--fill-color);\n",
              "    border-color: transparent;\n",
              "    border-bottom-color: var(--fill-color);\n",
              "    animation:\n",
              "      spin 1s steps(1) infinite;\n",
              "  }\n",
              "\n",
              "  @keyframes spin {\n",
              "    0% {\n",
              "      border-color: transparent;\n",
              "      border-bottom-color: var(--fill-color);\n",
              "      border-left-color: var(--fill-color);\n",
              "    }\n",
              "    20% {\n",
              "      border-color: transparent;\n",
              "      border-left-color: var(--fill-color);\n",
              "      border-top-color: var(--fill-color);\n",
              "    }\n",
              "    30% {\n",
              "      border-color: transparent;\n",
              "      border-left-color: var(--fill-color);\n",
              "      border-top-color: var(--fill-color);\n",
              "      border-right-color: var(--fill-color);\n",
              "    }\n",
              "    40% {\n",
              "      border-color: transparent;\n",
              "      border-right-color: var(--fill-color);\n",
              "      border-top-color: var(--fill-color);\n",
              "    }\n",
              "    60% {\n",
              "      border-color: transparent;\n",
              "      border-right-color: var(--fill-color);\n",
              "    }\n",
              "    80% {\n",
              "      border-color: transparent;\n",
              "      border-right-color: var(--fill-color);\n",
              "      border-bottom-color: var(--fill-color);\n",
              "    }\n",
              "    90% {\n",
              "      border-color: transparent;\n",
              "      border-bottom-color: var(--fill-color);\n",
              "    }\n",
              "  }\n",
              "</style>\n",
              "\n",
              "      <script>\n",
              "        async function quickchart(key) {\n",
              "          const quickchartButtonEl =\n",
              "            document.querySelector('#' + key + ' button');\n",
              "          quickchartButtonEl.disabled = true;  // To prevent multiple clicks.\n",
              "          quickchartButtonEl.classList.add('colab-df-spinner');\n",
              "          try {\n",
              "            const charts = await google.colab.kernel.invokeFunction(\n",
              "                'suggestCharts', [key], {});\n",
              "          } catch (error) {\n",
              "            console.error('Error during call to suggestCharts:', error);\n",
              "          }\n",
              "          quickchartButtonEl.classList.remove('colab-df-spinner');\n",
              "          quickchartButtonEl.classList.add('colab-df-quickchart-complete');\n",
              "        }\n",
              "        (() => {\n",
              "          let quickchartButtonEl =\n",
              "            document.querySelector('#df-137e19b9-04a6-48c3-9eda-8926dfd74e18 button');\n",
              "          quickchartButtonEl.style.display =\n",
              "            google.colab.kernel.accessAllowed ? 'block' : 'none';\n",
              "        })();\n",
              "      </script>\n",
              "    </div>\n",
              "\n",
              "    </div>\n",
              "  </div>\n"
            ],
            "application/vnd.google.colaboratory.intrinsic+json": {
              "type": "dataframe",
              "summary": "{\n  \"name\": \"pd\",\n  \"rows\": 17,\n  \"fields\": [\n    {\n      \"column\": \"Title\",\n      \"properties\": {\n        \"dtype\": \"string\",\n        \"num_unique_values\": 17,\n        \"samples\": [\n          \"Capt\",\n          \"Col\",\n          \"Jonkheer\"\n        ],\n        \"semantic_type\": \"\",\n        \"description\": \"\"\n      }\n    },\n    {\n      \"column\": \"female\",\n      \"properties\": {\n        \"dtype\": \"number\",\n        \"std\": 51,\n        \"min\": 0,\n        \"max\": 182,\n        \"num_unique_values\": 5,\n        \"samples\": [\n          1,\n          125,\n          182\n        ],\n        \"semantic_type\": \"\",\n        \"description\": \"\"\n      }\n    },\n    {\n      \"column\": \"male\",\n      \"properties\": {\n        \"dtype\": \"number\",\n        \"std\": 124,\n        \"min\": 0,\n        \"max\": 517,\n        \"num_unique_values\": 6,\n        \"samples\": [\n          1,\n          2,\n          517\n        ],\n        \"semantic_type\": \"\",\n        \"description\": \"\"\n      }\n    }\n  ]\n}"
            }
          },
          "metadata": {},
          "execution_count": 39
        }
      ],
      "source": [
        "pd.crosstab(train[\"Title\"], train[\"Sex\"])\n"
      ]
    },
    {
      "cell_type": "markdown",
      "metadata": {
        "_cell_guid": "ca5fff8c-7a0d-6c18-2173-b8df6293c50a",
        "_uuid": "84862f8cbbe2ea72b69a9cba78c6b7e10c80626e",
        "id": "7a3-YEWWu2AV"
      },
      "source": [
        "4.3 :\n",
        "Remplacer 'Melle et 'Ms' par 'Miss'\n",
        "\n",
        "Remplacer 'Mme' par 'Mrs'\n",
        "\n",
        "Creer une valeur \"Rare\" pour les autres titres avec moins de 10 occurences.\n",
        "\n",
        "Calculer ensuite le taux de survie par titre"
      ]
    },
    {
      "cell_type": "code",
      "execution_count": 40,
      "metadata": {
        "_cell_guid": "8357238b-98fe-632a-acd5-33674a6132ce",
        "_uuid": "db0029466612ad0550fc0eebef4a06a5507d6c3d",
        "id": "mHwh1dT7u2AV",
        "colab": {
          "base_uri": "https://localhost:8080/"
        },
        "outputId": "d87bf7e5-79f0-48fe-a14e-d252a6dd09b5"
      },
      "outputs": [
        {
          "output_type": "stream",
          "name": "stdout",
          "text": [
            "Title\n",
            "Master    57.500000\n",
            "Miss      70.270270\n",
            "Mr        15.667311\n",
            "Mrs       79.365079\n",
            "Rare      34.782609\n",
            "Name: Survived, dtype: float64\n"
          ]
        }
      ],
      "source": [
        "train[\"Title\"] = train[\"Title\"].replace(['Mlle', 'Ms'], 'Miss')\n",
        "train[\"Title\"] = train[\"Title\"].replace('Mme', 'Mrs')\n",
        "\n",
        "rare_titles = train[\"Title\"].value_counts()[train[\"Title\"].value_counts() < 10].index\n",
        "train[\"Title\"] = train[\"Title\"].replace(rare_titles, 'Rare')\n",
        "\n",
        "title_survival = train.groupby(\"Title\")[\"Survived\"].mean() * 100\n",
        "print(title_survival)\n"
      ]
    },
    {
      "cell_type": "markdown",
      "metadata": {
        "_cell_guid": "68fa2057-e27a-e252-0d1b-869c00a303ba",
        "_uuid": "52bcf7b36b8edb12d40f2a1f9e80060b55d91ad3",
        "id": "d1GMKS9uu2AV"
      },
      "source": [
        "## 5. Mise en forme des données non numériques"
      ]
    },
    {
      "cell_type": "markdown",
      "metadata": {
        "id": "eDJ1caDMu2AV"
      },
      "source": [
        "5.1 Attribuer une valeur numérique au Genre. Par exemple 0 pour 'female' et 1 pour 'male'"
      ]
    },
    {
      "cell_type": "code",
      "execution_count": null,
      "metadata": {
        "id": "UKD-A6Fiu2AV"
      },
      "outputs": [],
      "source": []
    },
    {
      "cell_type": "markdown",
      "metadata": {
        "id": "8yltsRotu2AV"
      },
      "source": [
        "5.2 : Attribuer une valeur pour les possibilités de la variable \"Title\" ('Master','Miss','Mr','Mrs','Rare')"
      ]
    },
    {
      "cell_type": "code",
      "execution_count": null,
      "metadata": {
        "id": "qQ5NHaTEu2AV"
      },
      "outputs": [],
      "source": []
    },
    {
      "cell_type": "markdown",
      "metadata": {
        "id": "EAjws05Ru2AV"
      },
      "source": [
        "5.3 Remplacer les titres manquant par 0, et attribuer à la colonne le type entier"
      ]
    },
    {
      "cell_type": "code",
      "execution_count": null,
      "metadata": {
        "id": "DKgy1L2uu2AV"
      },
      "outputs": [],
      "source": []
    },
    {
      "cell_type": "markdown",
      "metadata": {
        "id": "Tt748hBzu2AV"
      },
      "source": [
        "5.4 Attribuer une valeur numérique aux 4 catégories de la variable Fare"
      ]
    },
    {
      "cell_type": "code",
      "execution_count": null,
      "metadata": {
        "id": "8YfdFt10u2AV"
      },
      "outputs": [],
      "source": []
    },
    {
      "cell_type": "markdown",
      "metadata": {
        "id": "Hts71T55u2AV"
      },
      "source": [
        "5.5 Attibuer une valeur numérique au Port d'embarquement (Embarked)"
      ]
    },
    {
      "cell_type": "code",
      "execution_count": null,
      "metadata": {
        "id": "NY3YFXGVu2AV"
      },
      "outputs": [],
      "source": []
    },
    {
      "cell_type": "markdown",
      "metadata": {
        "id": "SXxfhE4pu2AV"
      },
      "source": [
        "5.6 Supprimer les features inutiles"
      ]
    },
    {
      "cell_type": "code",
      "execution_count": null,
      "metadata": {
        "id": "GguN88xXu2AV"
      },
      "outputs": [],
      "source": []
    },
    {
      "cell_type": "markdown",
      "metadata": {
        "id": "L7EQHYDcu2AV"
      },
      "source": [
        "5.7 Afficher les infos pour les deux datasets"
      ]
    },
    {
      "cell_type": "code",
      "execution_count": null,
      "metadata": {
        "id": "uKpL9yQpu2AV"
      },
      "outputs": [],
      "source": []
    },
    {
      "cell_type": "markdown",
      "metadata": {
        "id": "RTYTlQ7bu2AW"
      },
      "source": [
        "5.8 Sauver les deux datasets dans des fichier csv. Eviter d'écrire un index (n° de ligne)"
      ]
    },
    {
      "cell_type": "code",
      "execution_count": null,
      "metadata": {
        "_cell_guid": "2502bb70-ce6f-2497-7331-7d1f80521470",
        "_uuid": "1aa110c1043f1f43c091a771abc64054a211f784",
        "id": "ihUKvCDKu2AW"
      },
      "outputs": [],
      "source": []
    }
  ],
  "metadata": {
    "_change_revision": 0,
    "_is_fork": false,
    "kernelspec": {
      "display_name": "Python 3",
      "language": "python",
      "name": "python3"
    },
    "language_info": {
      "codemirror_mode": {
        "name": "ipython",
        "version": 3
      },
      "file_extension": ".py",
      "mimetype": "text/x-python",
      "name": "python",
      "nbconvert_exporter": "python",
      "pygments_lexer": "ipython3",
      "version": "3.7.4"
    },
    "colab": {
      "provenance": [],
      "include_colab_link": true
    }
  },
  "nbformat": 4,
  "nbformat_minor": 0
}